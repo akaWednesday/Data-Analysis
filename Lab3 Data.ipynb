{
 "cells": [
  {
   "cell_type": "code",
   "execution_count": 24,
   "id": "2a08e774",
   "metadata": {},
   "outputs": [
    {
     "name": "stdout",
     "output_type": "stream",
     "text": [
      "[['2020-12-11' 146.550003 151.5 ... 139.25 26980800 0]\n",
      " ['2020-12-14' 135.0 135.300003 ... 130.0 16966100 0]\n",
      " ['2020-12-15' 126.690002 127.599998 ... 124.800003 10914400 0]\n",
      " ...\n",
      " ['2022-09-28' 106.700996 111.129997 ... 110.690002 4518200 1]\n",
      " ['2022-09-29' 109.190002 109.474998 ... 106.660004 4259500 0]\n",
      " ['2022-09-30' 104.760002 109.080002 ... 105.040001 4747800 1]]\n",
      "Epoch 1/5\n",
      "29/29 [==============================] - 1s 1ms/step - loss: 0.4803 - Accuracy: 0.9690 - precision: 1.0000 - recall: 0.9690\n",
      "Epoch 2/5\n",
      "29/29 [==============================] - 0s 2ms/step - loss: 0.4703 - Accuracy: 1.0000 - precision: 1.0000 - recall: 1.0000\n",
      "Epoch 3/5\n",
      "29/29 [==============================] - 0s 9ms/step - loss: 0.3046 - Accuracy: 1.0000 - precision: 1.0000 - recall: 1.0000 - val_loss: 0.0065 - val_Accuracy: 1.0000 - val_precision: 1.0000 - val_recall: 1.0000\n",
      "Epoch 4/5\n",
      "29/29 [==============================] - 0s 2ms/step - loss: 6.3054e-04 - Accuracy: 1.0000 - precision: 1.0000 - recall: 1.0000\n",
      "Epoch 5/5\n",
      "29/29 [==============================] - 0s 2ms/step - loss: 2.1061e-06 - Accuracy: 1.0000 - precision: 1.0000 - recall: 1.0000\n"
     ]
    },
    {
     "data": {
      "text/plain": [
       "<keras.callbacks.History at 0x7fb564db01f0>"
      ]
     },
     "execution_count": 24,
     "metadata": {},
     "output_type": "execute_result"
    }
   ],
   "source": [
    "from tensorflow import keras \n",
    "from keras.models import Sequential \n",
    "from keras import Input\n",
    "from keras.layers import Dense\n",
    "\n",
    "import pandas as pd \n",
    "import numpy as np \n",
    "\n",
    "import sklearn\n",
    "\n",
    "from sklearn.model_selection import train_test_split \n",
    "from sklearn.metrics import classification_report \n",
    "\n",
    "\n",
    "pd.options.display.max_columns=50\n",
    "\n",
    "\n",
    "\n",
    "\n",
    "df=pd.read_csv('ABNB.csv', encoding='utf-8')\n",
    "df['UpOrDown']=df['Open'].apply(lambda x: 1)\n",
    "\n",
    "arr = df.to_numpy()\n",
    "for i in range(454):\n",
    "    if (arr[i,1]>arr[i,4]):\n",
    "        arr[i,7] = 0\n",
    "\n",
    "print(arr)\n",
    "\n",
    "\n",
    "\n",
    "X=df[['Open', 'High']]\n",
    "y=df['UpOrDown'].values\n",
    "\n",
    "\n",
    "X_train, X_test, y_train, y_test = train_test_split(X, y, test_size=0.2, random_state=0)\n",
    "\n",
    "model2 = Sequential(name=\"Model-with-Two-Inputs\") \n",
    "model2.add(Input(shape=(2,), name='Input-Layer')) \n",
    "model2.add(Dense(2, activation='softplus', name='Hidden-Layer')) \n",
    "model2.add(Dense(1, activation='sigmoid', name='Output-Layer')) \n",
    "\n",
    "\n",
    "\n",
    "model2.compile(optimizer='adam', \n",
    "              loss='binary_crossentropy', \n",
    "              metrics=['Accuracy', 'Precision', 'Recall'], \n",
    "              loss_weights=None,\n",
    "              weighted_metrics=None, \n",
    "              run_eagerly=None, \n",
    "              steps_per_execution=None \n",
    "             )\n",
    "\n",
    "\n",
    "\n",
    "model2.fit(X_train, \n",
    "          y_train, \n",
    "          batch_size=10,\n",
    "          epochs=5, \n",
    "          verbose='auto', \n",
    "          callbacks=None, \n",
    "          validation_split=0.2,\n",
    "          shuffle=True,\n",
    "          class_weight={0 : 0.3, 1 : 0.7}, \n",
    "          sample_weight=None, \n",
    "          initial_epoch=0, \n",
    "          steps_per_epoch=None,\n",
    "          validation_steps=None, \n",
    "          validation_batch_size=None, \n",
    "          validation_freq=3,\n",
    "          max_queue_size=10, \n",
    "          workers=1, \n",
    "          use_multiprocessing=False, \n",
    "         )\n"
   ]
  },
  {
   "cell_type": "code",
   "execution_count": null,
   "id": "f7c89a9b",
   "metadata": {},
   "outputs": [],
   "source": []
  },
  {
   "cell_type": "code",
   "execution_count": null,
   "id": "97cc9524",
   "metadata": {},
   "outputs": [],
   "source": []
  }
 ],
 "metadata": {
  "kernelspec": {
   "display_name": "Python 3 (ipykernel)",
   "language": "python",
   "name": "python3"
  },
  "language_info": {
   "codemirror_mode": {
    "name": "ipython",
    "version": 3
   },
   "file_extension": ".py",
   "mimetype": "text/x-python",
   "name": "python",
   "nbconvert_exporter": "python",
   "pygments_lexer": "ipython3",
   "version": "3.9.13"
  }
 },
 "nbformat": 4,
 "nbformat_minor": 5
}
